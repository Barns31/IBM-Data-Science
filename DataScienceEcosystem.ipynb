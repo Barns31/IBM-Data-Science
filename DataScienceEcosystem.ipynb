{
 "cells": [
  {
   "cell_type": "markdown",
   "id": "d42841cd-686a-4849-be4d-c67ba25b143f",
   "metadata": {},
   "source": [
    "## Data Science Tools and Ecosystem"
   ]
  },
  {
   "cell_type": "markdown",
   "id": "77215e0c-07cc-49ee-aca8-329cf48064c0",
   "metadata": {},
   "source": [
    "In this notebook, Data Science Tools and Ecosystem are summarized."
   ]
  },
  {
   "cell_type": "markdown",
   "id": "a7ac5c9c-f76f-4e75-9832-9a58e02735fa",
   "metadata": {},
   "source": [
    "Some of the popular languages that Data Scientists use are:\n",
    "1. Python\n",
    "2. R\n",
    "3. MySQL"
   ]
  },
  {
   "cell_type": "markdown",
   "id": "bb5e682d-c47d-4f7c-b21e-b8f56f133a58",
   "metadata": {},
   "source": [
    "Some ofthe commonly used librairies used by Data Scientists include:\n",
    "1. TensorFlow\n",
    "2. NumPy\n",
    "3. SciPy\n",
    "4. Pandas"
   ]
  },
  {
   "cell_type": "markdown",
   "id": "ffda57c3-24aa-4f0b-b6f6-24a298ce4c8f",
   "metadata": {},
   "source": [
    "|Data Science Tools|\n",
    "-------------------\n",
    "|SAS|\n",
    "|Apache Spark|\n",
    "|Excel|"
   ]
  },
  {
   "cell_type": "markdown",
   "id": "81ff0c84-e9ed-4a2d-b73b-7307a5088b72",
   "metadata": {},
   "source": [
    "### Below are a few examples of evaluating arithmetic expression in Python"
   ]
  },
  {
   "cell_type": "code",
   "execution_count": 1,
   "id": "0a482ae0-3a91-4dc7-b8cb-0dc690bb1fe7",
   "metadata": {},
   "outputs": [
    {
     "data": {
      "text/plain": [
       "17"
      ]
     },
     "execution_count": 1,
     "metadata": {},
     "output_type": "execute_result"
    }
   ],
   "source": [
    "(3*4)+5\n",
    "#This a simple arithmetic expression to multiply then add integers"
   ]
  },
  {
   "cell_type": "code",
   "execution_count": 2,
   "id": "0ffc8427-99ad-47ac-a682-8fd4f8fb5d95",
   "metadata": {},
   "outputs": [
    {
     "data": {
      "text/plain": [
       "3.3333333333333335"
      ]
     },
     "execution_count": 2,
     "metadata": {},
     "output_type": "execute_result"
    }
   ],
   "source": [
    "200/60\n",
    "#This will convert 200 minutes to hours by diving by 60"
   ]
  },
  {
   "cell_type": "markdown",
   "id": "67d7473c-3e4c-4d77-9c4a-53e1bb2bc484",
   "metadata": {},
   "source": [
    "**Objectives:**\n",
    "List popular languages for Data Science\n",
    "- Python\n",
    "- R\n",
    "- MySQL"
   ]
  },
  {
   "cell_type": "markdown",
   "id": "9a54a31f-945b-4e83-bee7-86885d0694db",
   "metadata": {},
   "source": [
    "## Author:\n",
    "Kenny Barns Pierre"
   ]
  },
  {
   "cell_type": "code",
   "execution_count": null,
   "id": "42275fab-4c6d-4e3c-a705-0e034d01e2ee",
   "metadata": {},
   "outputs": [],
   "source": []
  }
 ],
 "metadata": {
  "kernelspec": {
   "display_name": "Python 3 (ipykernel)",
   "language": "python",
   "name": "python3"
  },
  "language_info": {
   "codemirror_mode": {
    "name": "ipython",
    "version": 3
   },
   "file_extension": ".py",
   "mimetype": "text/x-python",
   "name": "python",
   "nbconvert_exporter": "python",
   "pygments_lexer": "ipython3",
   "version": "3.10.9"
  }
 },
 "nbformat": 4,
 "nbformat_minor": 5
}
